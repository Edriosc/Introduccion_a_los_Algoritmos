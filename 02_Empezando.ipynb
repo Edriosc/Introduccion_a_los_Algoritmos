{
  "nbformat": 4,
  "nbformat_minor": 0,
  "metadata": {
    "colab": {
      "provenance": [],
      "toc_visible": true,
      "authorship_tag": "ABX9TyMx79F3vwNM7c4LUiJp+kLN",
      "include_colab_link": true
    },
    "kernelspec": {
      "name": "python3",
      "display_name": "Python 3"
    },
    "language_info": {
      "name": "python"
    }
  },
  "cells": [
    {
      "cell_type": "markdown",
      "metadata": {
        "id": "view-in-github",
        "colab_type": "text"
      },
      "source": [
        "<a href=\"https://colab.research.google.com/github/Edriosc/Introduccion_a_los_Algoritmos/blob/main/02_Empezando.ipynb\" target=\"_parent\"><img src=\"https://colab.research.google.com/assets/colab-badge.svg\" alt=\"Open In Colab\"/></a>"
      ]
    },
    {
      "cell_type": "markdown",
      "source": [
        "##Empezando\n",
        "En este capitulo nos familirizaremos con las estructuras que usaremos en el\n",
        "resto de los capitulos para diseñar y analizar algoritmos. Será autocontenido, pero incluye varias referencias al material de los capitulos 3 y 4.\n",
        "\n",
        "Comenzaremos examinnado el Algoritmo de insersión para resolver el problema introducido en el capitulo 1. Veremos porqué funciona y analizaremos su eficacia. Luego, veremos el método Divide y Vencerás para desarrollar el algoritmo de ordenaminento Merge Sort, junto con el analisis de su eficacia."
      ],
      "metadata": {
        "id": "3paqdJ_lR39u"
      }
    },
    {
      "cell_type": "markdown",
      "source": [
        "#2.1 Insertion Sort\n",
        "Este primero alogortimo resuelve el problema de ordenamiento. Su imput es una secuencia de n numeros y su output es una permutación o reordenamiento de menor a mayor de la secuencia.\n",
        "\n",
        "Los números a ordenar serán llamados *llaves* (keys), el input seá un arreglo (generalmente de Numpy) de n elementos. Es frecuente que al ordenar numeros, las llaves vengan asociadas con otros datos, a ellos los llamaremos *datos satélites*(satellite data). Cuando están juntas las llaves y los daots satélites, tenemos un *registro* (record). Por ejemplo, considerando una hoja de cálculo que contiene registros de estudiantes, asociados a otros datos tales como la edad, cursos que ha tomado, etc. Cualquiera de estas cantidades puede ser una llave, pero cuando ordenamos la hoja de cálculo, se mueven los datos satelites con la llave. Cuando describamos un algoritmo de ordenamiento, nos centraremos en las llaves, pero es importante recordar que suelen estar asociadas a datos satélites.\n",
        "\n",
        "Empezemos con Insertion Sort, el cual es un algoritmo eficiente para ordenar arreglos pequeños de datos\n",
        "\n"
      ],
      "metadata": {
        "id": "7JwVTiepR4de"
      }
    },
    {
      "cell_type": "markdown",
      "source": [
        "# Sección nueva"
      ],
      "metadata": {
        "id": "BU3DNy-xR41V"
      }
    },
    {
      "cell_type": "markdown",
      "source": [
        "# Sección nueva"
      ],
      "metadata": {
        "id": "7rtksz6nR5K1"
      }
    },
    {
      "cell_type": "markdown",
      "source": [
        "# Sección nueva"
      ],
      "metadata": {
        "id": "A746eipQR5h-"
      }
    }
  ]
}