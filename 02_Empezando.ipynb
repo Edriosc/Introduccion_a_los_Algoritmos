{
  "nbformat": 4,
  "nbformat_minor": 0,
  "metadata": {
    "colab": {
      "provenance": [],
      "toc_visible": true,
      "authorship_tag": "ABX9TyMvu9kwb9VKZVoOuI7LxIBt",
      "include_colab_link": true
    },
    "kernelspec": {
      "name": "python3",
      "display_name": "Python 3"
    },
    "language_info": {
      "name": "python"
    }
  },
  "cells": [
    {
      "cell_type": "markdown",
      "metadata": {
        "id": "view-in-github",
        "colab_type": "text"
      },
      "source": [
        "<a href=\"https://colab.research.google.com/github/Edriosc/Introduccion_a_los_Algoritmos/blob/main/02_Empezando.ipynb\" target=\"_parent\"><img src=\"https://colab.research.google.com/assets/colab-badge.svg\" alt=\"Open In Colab\"/></a>"
      ]
    },
    {
      "cell_type": "markdown",
      "source": [
        "##Empezando\n",
        "En este capitulo nos familirizaremos con las estructuras que usaremos en el\n",
        "resto de los capítulos para diseñar y analizar algoritmos. Será autocontenido, pero incluye varias referencias al material de los capítulos 3 y 4.\n",
        "\n",
        "Comenzaremos examinando el Algoritmo de insersión para resolver el problema de ordenamiento introducido en el capítulo 1. Veremos porqué funciona y analizaremos su eficacia. Luego, veremos el método Divide y Vencerás para desarrollar el algoritmo de ordenaminento Merge Sort, junto con el analisis de su eficacia."
      ],
      "metadata": {
        "id": "3paqdJ_lR39u"
      }
    },
    {
      "cell_type": "markdown",
      "source": [
        "#2.1 Insertion Sort\n",
        "Este primero alogortimo resuelve el problema de ordenamiento. Su imput es una secuencia de n numeros y su output es una permutación o reordenamiento de menor a mayor de la secuencia.\n",
        "\n",
        "Los números a ordenar serán llamados *llaves* (keys), el input seá un arreglo (generalmente de Numpy) de n elementos. Es frecuente que al ordenar numeros, las llaves vengan asociadas con otros datos, a ellos los llamaremos *datos satélites*(satellite data). Cuando están juntas las llaves y los daots satélites, tenemos un *registro* (record). Por ejemplo, considerando una hoja de cálculo que contiene registros de estudiantes, asociados a otros datos tales como la edad, cursos que ha tomado, etc. Cualquiera de estas cantidades puede ser una llave, pero cuando ordenamos la hoja de cálculo, se mueven los datos satelites con la llave. Cuando describamos un algoritmo de ordenamiento, nos centraremos en las llaves, pero es importante recordar que suelen estar asociadas a datos satélites.\n",
        "\n",
        "Empezemos con Insertion Sort, el cual es un algoritmo eficiente para ordenar arreglos pequeños de datos. Este algoritmo funciona tal como si quisieramos ordenar una baraja de cartas mientras jugamos cariocas. Empezamos con la mano izquierda vacía y las cartas en un montón sobre la mesa. Tomamos la primera carta del montón y la sostendremos con la mano izquierda. Luego, con tu mano derecha, comienza a tomar cartas del montón, una a la vez e insertalas en la posición correcta de tu mano izquierda. Encontraremos la posición correcta de cada carta mediante la comparación de las cartas que ya tengamos en nuestra mano izquierda, empezando desde la derecha y moviendonos hacia la izquierda. Tan pronto como veamos una carta en nuestra mano izquierda cuyo valor sea menor o igual que la carta que estamos sosteniendo en nuestra mano derecha,insertaremos la carta que tenemos en la mano derecha justo a la derecha de tal carta de la mano izquierda. Si todas las cartas de nuestra mano izquierda son más grandes que la carta en nuestra mano derecha, entonces pondremos tal carta en la posición más a la izquierda de nuestra mano izquierda. Al finalizar, las cartas en nuestra mano izquierda estarán ordenadas.\n",
        "\n",
        "El código para insertion sort será dado a continuación. Recibe como único parámetro un arreglo A de largo n (n = len(A)). Los valores ocuparan las posiciones A[0],...,A[n-1]. Cuando insertion sort termine, el arreglo A estará ordenado.\n",
        "\n"
      ],
      "metadata": {
        "id": "7JwVTiepR4de"
      }
    },
    {
      "cell_type": "code",
      "source": [
        "import numpy as np\n",
        "\n",
        "def insertion_sort(A):\n",
        "  n = len(A)\n",
        "  for i in range(1,n):\n",
        "    llave = A[i]\n",
        "    j = i-1\n",
        "    while j>=0 and A[j]>llave:\n",
        "      A[j+1] = A[j]\n",
        "      j = j-1\n",
        "\n",
        "    A[j+1] = llave\n",
        "\n",
        "  return A"
      ],
      "metadata": {
        "id": "01ElJD4FfPJX"
      },
      "execution_count": 15,
      "outputs": []
    },
    {
      "cell_type": "code",
      "source": [
        "a = np.random.random(6)\n",
        "print(a)\n",
        "insertion_sort(a)\n",
        "print(a)"
      ],
      "metadata": {
        "colab": {
          "base_uri": "https://localhost:8080/"
        },
        "id": "TfB8Yo-8grmK",
        "outputId": "a792ea54-9634-4e5c-b943-e24271f1af1b"
      },
      "execution_count": 16,
      "outputs": [
        {
          "output_type": "stream",
          "name": "stdout",
          "text": [
            "[0.89104435 0.06963325 0.27035438 0.6652442  0.40351192 0.67971079]\n",
            "[0.06963325 0.27035438 0.40351192 0.6652442  0.67971079 0.89104435]\n"
          ]
        }
      ]
    },
    {
      "cell_type": "markdown",
      "source": [
        "# Sección nueva"
      ],
      "metadata": {
        "id": "BU3DNy-xR41V"
      }
    },
    {
      "cell_type": "markdown",
      "source": [
        "# Sección nueva"
      ],
      "metadata": {
        "id": "7rtksz6nR5K1"
      }
    },
    {
      "cell_type": "markdown",
      "source": [
        "# Sección nueva"
      ],
      "metadata": {
        "id": "A746eipQR5h-"
      }
    }
  ]
}